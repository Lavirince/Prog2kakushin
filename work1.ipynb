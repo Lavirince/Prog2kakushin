{
  "nbformat": 4,
  "nbformat_minor": 0,
  "metadata": {
    "colab": {
      "provenance": [],
      "authorship_tag": "ABX9TyPrsxFyoK5pUvHytLfXjl+F",
      "include_colab_link": true
    },
    "kernelspec": {
      "name": "python3",
      "display_name": "Python 3"
    },
    "language_info": {
      "name": "python"
    }
  },
  "cells": [
    {
      "cell_type": "markdown",
      "metadata": {
        "id": "view-in-github",
        "colab_type": "text"
      },
      "source": [
        "<a href=\"https://colab.research.google.com/github/Lavirince/Prog2kakushin/blob/main/work1.ipynb\" target=\"_parent\"><img src=\"https://colab.research.google.com/assets/colab-badge.svg\" alt=\"Open In Colab\"/></a>"
      ]
    },
    {
      "cell_type": "code",
      "execution_count": null,
      "metadata": {
        "id": "SbmFvNLw8P-D"
      },
      "outputs": [],
      "source": []
    },
    {
      "cell_type": "markdown",
      "source": [],
      "metadata": {
        "id": "bnE8g1ma8TtZ"
      }
    },
    {
      "cell_type": "markdown",
      "source": [
        "乱数の分布、2つの乱数の平均の分布、3つの……\n",
        "と平均化した時の分布をグラフ化する。"
      ],
      "metadata": {
        "id": "9uTEhPYJ9wPK"
      }
    }
  ]
}